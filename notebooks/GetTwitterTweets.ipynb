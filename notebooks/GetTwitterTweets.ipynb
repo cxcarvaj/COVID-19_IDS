{
 "cells": [
  {
   "cell_type": "markdown",
   "source": [
    "# TwitterAPI - Get tweets"
   ],
   "metadata": {}
  },
  {
   "cell_type": "code",
   "execution_count": 7,
   "source": [
    "import tweepy\r\n",
    "import json\r\n",
    "import pandas as pd\r\n",
    "import csv\r\n",
    "import time\r\n",
    "import os\r\n",
    "from dotenv import load_dotenv\r\n",
    "load_dotenv()"
   ],
   "outputs": [
    {
     "output_type": "execute_result",
     "data": {
      "text/plain": [
       "True"
      ]
     },
     "metadata": {},
     "execution_count": 7
    }
   ],
   "metadata": {}
  },
  {
   "cell_type": "markdown",
   "source": [
    "## Keys and tokens for the project"
   ],
   "metadata": {}
  },
  {
   "cell_type": "code",
   "execution_count": 8,
   "source": [
    "consumer_key = os.getenv('consumer_key')\r\n",
    "consumer_secret = os.getenv('consumer_secret')\r\n",
    "access_token = os.getenv('access_token')\r\n",
    "access_token_secret = os.getenv('access_token_secret')"
   ],
   "outputs": [],
   "metadata": {}
  },
  {
   "cell_type": "markdown",
   "source": [
    "## Autenticacion"
   ],
   "metadata": {}
  },
  {
   "cell_type": "code",
   "execution_count": 9,
   "source": [
    "auth = tweepy.OAuthHandler(consumer_key, consumer_secret)\r\n",
    "auth.set_access_token(access_token, access_token_secret)\r\n",
    "\r\n",
    "api = tweepy.API(auth, wait_on_rate_limit=True, wait_on_rate_limit_notify=True)"
   ],
   "outputs": [],
   "metadata": {}
  },
  {
   "cell_type": "markdown",
   "source": [
    "## Get Tweets"
   ],
   "metadata": {}
  },
  {
   "cell_type": "code",
   "execution_count": 34,
   "source": [
    "def getTweets(query_string, numTweets, numRuns):\r\n",
    "    \r\n",
    "    # We cannot make large API call in one go.\r\n",
    "    \r\n",
    "    # Define a pandas dataframe to store the date:\r\n",
    "    db_tweets = pd.DataFrame(columns = ['name', 'username', 'acctdesc', 'user_location',\r\n",
    "     'tweet_full_text', 'tweet_place_name', 'tweet_place_type', 'tweet_place_bounding_box_type', 'tweet_place_bounding_box_coordinates', 'tweet_url'])\r\n",
    "    program_start = time.time()\r\n",
    "    for i in range(0, numRuns):\r\n",
    "        start_run = time.time()\r\n",
    "        tweets = tweepy.Cursor(api.search, q=query_string, tweet_mode='extended').items(numTweets)\r\n",
    "        # Store these tweets into a python list\r\n",
    "        tweet_list = [tweet for tweet in tweets]\r\n",
    "        # Begin scraping the tweets:\r\n",
    "        noTweets = 0\r\n",
    "        for tweet in tweet_list:\r\n",
    "                start_url = 'https://twitter.com/twitter/statuses/'\r\n",
    "                if not tweet.full_text.startswith('RT'):\r\n",
    "                        # Pull the values\r\n",
    "                        tweet_id = tweet.id\r\n",
    "                        name = tweet.user.name\r\n",
    "                        username = tweet.user.screen_name\r\n",
    "                        acctdesc = tweet.user.description\r\n",
    "                        user_location = tweet.user.location\r\n",
    "                        tweet_full_text = tweet.full_text\r\n",
    "                        tweet_place_bounding_box_type = tweet.place.bounding_box.type\r\n",
    "                        tweet_place_bounding_box_coordinates = tweet.place.bounding_box.coordinates\r\n",
    "                        tweet_url = start_url + str(tweet_id)\r\n",
    "                        try:\r\n",
    "                                tweet_place_name =  tweet.place.name\r\n",
    "                                tweet_place_type = tweet.place.type\r\n",
    "                        except AttributeError:\r\n",
    "                                tweet_place_name =  'None'\r\n",
    "                                tweet_place_type = 'None'\r\n",
    "        # Data for the dataset:\r\n",
    "                        ith_tweet = [name, username, acctdesc, user_location, tweet_full_text, tweet_place_name, tweet_place_type, tweet_place_bounding_box_type, tweet_place_bounding_box_coordinates, tweet_url]\r\n",
    "\r\n",
    "        # Append to db_tweets\r\n",
    "                        db_tweets.loc[len(db_tweets)] = ith_tweet\r\n",
    "        # increase counter - noTweets  \r\n",
    "                        noTweets += 1\r\n",
    "        \r\n",
    "        # Run ended:\r\n",
    "        end_run = time.time()\r\n",
    "        duration_run = round((end_run-start_run)/60, 2)\r\n",
    "        \r\n",
    "        print('Número de tweets obtenidos en la corrida {} es {}'.format(i + 1, noTweets))\r\n",
    "        print('tiempo que se tomo la corrida {} para completar la tarea es {} mins'.format(i+1, duration_run))\r\n",
    "        \r\n",
    "    time.sleep(920) #15 minute sleep time\r\n",
    "    # Store dataframe in csv\r\n",
    "    db_tweets.to_csv('test.csv', index = False)\r\n",
    "    \r\n",
    "    program_end = time.time()\r\n",
    "    print('El proceso se ha completado!')\r\n",
    "    print('Total time: {} minutes.'.format(round(program_end - program_start)/60, 2))"
   ],
   "outputs": [],
   "metadata": {}
  },
  {
   "cell_type": "code",
   "execution_count": 35,
   "source": [
    "# Initialise these variables:\r\n",
    "places = api.geo_search(query=\"EC\", granularity=\"country\")\r\n",
    "place_id = places[0].id\r\n",
    "query_string = \"#PlanVacunación9100 OR #VacunaCOVID19 OR #JuntosLoLogramos place:\"+place_id\r\n",
    "numTweets = 5\r\n",
    "numRuns = 2\r\n",
    "# Call the function scraptweets\r\n",
    "getTweets(query_string, numTweets, numRuns)"
   ],
   "outputs": [
    {
     "output_type": "stream",
     "name": "stdout",
     "text": [
      "Número de tweets obtenidos en la corrida 1 es 5\n",
      "tiempo que se tomo la corrida 1 para completar la tarea es 0.01 mins\n",
      "Número de tweets obtenidos en la corrida 2 es 5\n",
      "tiempo que se tomo la corrida 2 para completar la tarea es 0.01 mins\n",
      "El proceso se ha completado!\n",
      "Total time: 0.03333333333333333 minutes.\n"
     ]
    }
   ],
   "metadata": {}
  }
 ],
 "metadata": {
  "orig_nbformat": 4,
  "language_info": {
   "name": "python",
   "version": "3.9.2",
   "mimetype": "text/x-python",
   "codemirror_mode": {
    "name": "ipython",
    "version": 3
   },
   "pygments_lexer": "ipython3",
   "nbconvert_exporter": "python",
   "file_extension": ".py"
  },
  "kernelspec": {
   "name": "python3",
   "display_name": "Python 3.9.2 64-bit"
  },
  "interpreter": {
   "hash": "dbddb96e7d3a7c3bdb61c9b675ae50b35186c913b160c7b0a6c0a7197ecf1db6"
  }
 },
 "nbformat": 4,
 "nbformat_minor": 2
}